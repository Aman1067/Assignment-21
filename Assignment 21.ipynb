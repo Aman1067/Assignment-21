{
 "cells": [
  {
   "cell_type": "markdown",
   "id": "98f4a435",
   "metadata": {},
   "source": [
    "1. Add the current date to the text file today.txt as a string."
   ]
  },
  {
   "cell_type": "code",
   "execution_count": 38,
   "id": "eaacec75",
   "metadata": {},
   "outputs": [],
   "source": [
    "from datetime import datetime\n",
    "current_date = datetime.now().strftime(\"%Y-%m-%d\")\n",
    "with open(\"today.txt\", \"w\") as file:\n",
    "    file.write(current_date)"
   ]
  },
  {
   "cell_type": "markdown",
   "id": "406f82ce",
   "metadata": {},
   "source": [
    "2. Read the text file today.txt into the string today_string"
   ]
  },
  {
   "cell_type": "code",
   "execution_count": 39,
   "id": "bcc784fa",
   "metadata": {},
   "outputs": [
    {
     "name": "stdout",
     "output_type": "stream",
     "text": [
      "2023-06-21\n"
     ]
    }
   ],
   "source": [
    "with open('today.txt','r') as file:\n",
    "    today_string=file.read()\n",
    "    print(today_string)"
   ]
  },
  {
   "cell_type": "markdown",
   "id": "200634b4",
   "metadata": {},
   "source": [
    "3. Parse the date from today_string."
   ]
  },
  {
   "cell_type": "code",
   "execution_count": 40,
   "id": "c433de85",
   "metadata": {},
   "outputs": [
    {
     "data": {
      "text/plain": [
       "datetime.datetime(2023, 6, 21, 0, 0)"
      ]
     },
     "execution_count": 40,
     "metadata": {},
     "output_type": "execute_result"
    }
   ],
   "source": [
    "from datetime import datetime\n",
    "parsed_date=datetime.strptime(today_string,\"%Y-%m-%d\")\n",
    "parsed_date"
   ]
  },
  {
   "cell_type": "markdown",
   "id": "8fc9565c",
   "metadata": {},
   "source": [
    "4. List the files in your current directory"
   ]
  },
  {
   "cell_type": "code",
   "execution_count": null,
   "id": "73fbf5c5",
   "metadata": {},
   "outputs": [],
   "source": [
    "import os\n",
    "files=os.listdir()\n",
    "for file in files:\n",
    "    print(file)"
   ]
  },
  {
   "cell_type": "markdown",
   "id": "73906806",
   "metadata": {},
   "source": [
    "5. Create a list of all of the files in your parent directory (minimum five files should be available)."
   ]
  },
  {
   "cell_type": "code",
   "execution_count": 1,
   "id": "ba8dabd9",
   "metadata": {},
   "outputs": [
    {
     "name": "stdout",
     "output_type": "stream",
     "text": [
      "All Users\n",
      "Anshuman\n",
      "Default\n",
      "Default User\n",
      "desktop.ini\n",
      "Public\n"
     ]
    }
   ],
   "source": [
    "import os\n",
    "parent_directory = os.path.dirname(os.getcwd())\n",
    "files = os.listdir(parent_directory)\n",
    "for file in files:\n",
    "    print(file)\n"
   ]
  },
  {
   "cell_type": "markdown",
   "id": "aaf39ff3",
   "metadata": {},
   "source": [
    "6. Use multiprocessing to create three separate processes. Make each one wait a random number of seconds between one and five, print the current time, and then exit."
   ]
  },
  {
   "cell_type": "code",
   "execution_count": 2,
   "id": "3a3100ab",
   "metadata": {},
   "outputs": [],
   "source": [
    "import multiprocessing\n",
    "import random\n",
    "import time\n",
    "from datetime import datetime\n",
    "\n",
    "def process_function():\n",
    "    \n",
    "    wait_time = random.randint(1, 5)\n",
    "    time.sleep(wait_time)\n",
    "    current_time = datetime.now().strftime(\"%Y-%m-%d %H:%M:%S\")\n",
    "    print(f\"Process ID: {multiprocessing.current_process().pid} | Current Time: {current_time}\")\n",
    "processes = []\n",
    "for _ in range(3):\n",
    "    process = multiprocessing.Process(target=process_function)\n",
    "    processes.append(process)\n",
    "for process in processes:\n",
    "    process.start()\n",
    "for process in processes:\n",
    "    process.join()\n"
   ]
  },
  {
   "cell_type": "markdown",
   "id": "a206d73c",
   "metadata": {},
   "source": [
    "7. Create a date object of your day of birth."
   ]
  },
  {
   "cell_type": "code",
   "execution_count": 4,
   "id": "aa346667",
   "metadata": {},
   "outputs": [
    {
     "name": "stdout",
     "output_type": "stream",
     "text": [
      "1995-01-14\n"
     ]
    }
   ],
   "source": [
    "from datetime import date\n",
    "birth_date = date(year=1995, month=1, day=14)\n",
    "print(birth_date)\n"
   ]
  },
  {
   "cell_type": "markdown",
   "id": "75911461",
   "metadata": {},
   "source": [
    "8. What day of the week was your day of birth?"
   ]
  },
  {
   "cell_type": "code",
   "execution_count": 6,
   "id": "1f8c0144",
   "metadata": {},
   "outputs": [
    {
     "name": "stdout",
     "output_type": "stream",
     "text": [
      "Saturday\n"
     ]
    }
   ],
   "source": [
    "from datetime import date\n",
    "birth_date = date(year=1995, month=1, day=14)\n",
    "day_of_week = birth_date.strftime(\"%A\")\n",
    "print(day_of_week)"
   ]
  },
  {
   "cell_type": "markdown",
   "id": "cdf70752",
   "metadata": {},
   "source": [
    "9. When will you be (or when were you) 10,000 days old?"
   ]
  },
  {
   "cell_type": "code",
   "execution_count": 8,
   "id": "2fc6c477",
   "metadata": {},
   "outputs": [
    {
     "name": "stdout",
     "output_type": "stream",
     "text": [
      "2022-06-01\n"
     ]
    }
   ],
   "source": [
    "from datetime import date, timedelta\n",
    "birth_date = date(year=1995, month=1, day=14)\n",
    "target_date = birth_date + timedelta(days=10000)\n",
    "print(target_date)"
   ]
  }
 ],
 "metadata": {
  "kernelspec": {
   "display_name": "Python 3 (ipykernel)",
   "language": "python",
   "name": "python3"
  },
  "language_info": {
   "codemirror_mode": {
    "name": "ipython",
    "version": 3
   },
   "file_extension": ".py",
   "mimetype": "text/x-python",
   "name": "python",
   "nbconvert_exporter": "python",
   "pygments_lexer": "ipython3",
   "version": "3.9.7"
  }
 },
 "nbformat": 4,
 "nbformat_minor": 5
}
